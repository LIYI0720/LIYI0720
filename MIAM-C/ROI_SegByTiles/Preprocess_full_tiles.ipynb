{
 "cells": [
  {
   "cell_type": "code",
   "execution_count": 1,
   "metadata": {},
   "outputs": [
    {
     "ename": "ModuleNotFoundError",
     "evalue": "No module named 'openslide'",
     "output_type": "error",
     "traceback": [
      "\u001b[1;31m---------------------------------------------------------------------------\u001b[0m",
      "\u001b[1;31mModuleNotFoundError\u001b[0m                       Traceback (most recent call last)",
      "\u001b[1;32m<ipython-input-1-bdc40f820692>\u001b[0m in \u001b[0;36m<module>\u001b[1;34m\u001b[0m\n\u001b[1;32m----> 1\u001b[1;33m \u001b[1;32mimport\u001b[0m \u001b[0mos\u001b[0m\u001b[1;33m,\u001b[0m \u001b[0mcopy\u001b[0m\u001b[1;33m,\u001b[0m \u001b[0mopenslide\u001b[0m\u001b[1;33m,\u001b[0m \u001b[0mpypinyin\u001b[0m\u001b[1;33m,\u001b[0m \u001b[0mrandom\u001b[0m\u001b[1;33m,\u001b[0m \u001b[0mh5py\u001b[0m\u001b[1;33m,\u001b[0m \u001b[0mcv2\u001b[0m\u001b[1;33m,\u001b[0m \u001b[0mshutil\u001b[0m\u001b[1;33m\u001b[0m\u001b[1;33m\u001b[0m\u001b[0m\n\u001b[0m\u001b[0;32m      2\u001b[0m \u001b[1;32mfrom\u001b[0m \u001b[0mopenslide\u001b[0m\u001b[1;33m.\u001b[0m\u001b[0mdeepzoom\u001b[0m \u001b[1;32mimport\u001b[0m \u001b[0mDeepZoomGenerator\u001b[0m\u001b[1;33m\u001b[0m\u001b[1;33m\u001b[0m\u001b[0m\n\u001b[0;32m      3\u001b[0m \u001b[1;32mimport\u001b[0m \u001b[0mnumpy\u001b[0m \u001b[1;32mas\u001b[0m \u001b[0mnp\u001b[0m\u001b[1;33m\u001b[0m\u001b[1;33m\u001b[0m\u001b[0m\n\u001b[0;32m      4\u001b[0m \u001b[1;32mimport\u001b[0m \u001b[0mpandas\u001b[0m \u001b[1;32mas\u001b[0m \u001b[0mpd\u001b[0m\u001b[1;33m\u001b[0m\u001b[1;33m\u001b[0m\u001b[0m\n\u001b[0;32m      5\u001b[0m \u001b[1;32mfrom\u001b[0m \u001b[0mtqdm\u001b[0m \u001b[1;32mimport\u001b[0m \u001b[0mtrange\u001b[0m\u001b[1;33m,\u001b[0m\u001b[0mtqdm\u001b[0m\u001b[1;33m\u001b[0m\u001b[1;33m\u001b[0m\u001b[0m\n",
      "\u001b[1;31mModuleNotFoundError\u001b[0m: No module named 'openslide'"
     ]
    }
   ],
   "source": [
    "import os, copy, openslide, pypinyin, random, h5py, cv2, shutil\n",
    "from openslide.deepzoom import DeepZoomGenerator\n",
    "import numpy as np\n",
    "import pandas as pd\n",
    "from tqdm import trange,tqdm\n",
    "import matplotlib.pyplot as plt\n",
    "from PIL import Image,ImageOps\n",
    "Image.MAX_IMAGE_PIXELS = None\n",
    "SVS_path = r'Y:/admin/Pan_cancar/TCGA_OV_106WSIs'\n",
    "Label_path = r'Y:/admin/Pan_cancar/TCGA_OV_tumor_qupath/export'\n",
    "Output_path = r'Y:/admin/Pan_cancar/TCGA_OV_106WSIs_tumor_tiles'\n",
    "im_size = 512"
   ]
  },
  {
   "cell_type": "code",
   "execution_count": 11,
   "metadata": {},
   "outputs": [],
   "source": [
    "def gamma_adjust(src_image, gamma_val = 0.5):\n",
    "    gamma_table = [np.power(x / 255.0, gamma_val) * 255.0 for x in range(256)]\n",
    "    gamma_table = np.round(np.array(gamma_table)).astype(np.uint8)\n",
    "    src_image = cv2.LUT(src_image, gamma_table)\n",
    "    return src_image\n",
    "\n",
    "def mask(image_rgb, kernel = 9, sigma = 5000,threshold = 220):\n",
    "    img_cv2 = cv2.cvtColor(np.asarray(image_rgb),cv2.COLOR_RGB2BGR)\n",
    "    img_cv2_gray = cv2.cvtColor(img_cv2,cv2.COLOR_RGB2GRAY)\n",
    "    img_cv2_gray = gamma_adjust(img_cv2_gray)\n",
    "    img_cv2_blur = cv2.GaussianBlur(img_cv2_gray,(kernel,kernel),sigma)\n",
    "    _,mask = cv2.threshold(img_cv2_blur,threshold,255,cv2.THRESH_BINARY)\n",
    "    image = np.array(image_rgb,dtype=np.int16)\n",
    "    image_masked = np.zeros_like(image,dtype=np.int16)\n",
    "    for i in range(3):\n",
    "        image_masked[:,:,i] = image[:,:,i] + mask\n",
    "    image_masked = np.clip(image_masked,0,255)\n",
    "    intensity = np.sum(image_masked)/3/im_size/im_size/255\n",
    "    # intensity = np.sum(image_masked)/3/im_size/im_size/255\n",
    "\n",
    "    return intensity"
   ]
  },
  {
   "cell_type": "code",
   "execution_count": 12,
   "metadata": {},
   "outputs": [],
   "source": [
    "def resize_image(label_image, m, n):\n",
    "    gray_label_image = ImageOps.grayscale(label_image)\n",
    "    gray_label_image = np.array(gray_label_image)\n",
    "    if np.sum(gray_label_image) == 0:\n",
    "        gray_label_image = np.zeros((n,m),dtype=np.uint8)\n",
    "    else:\n",
    "        gray_label_image = gray_label_image/np.max(gray_label_image)\n",
    "        gray_label_image = gray_label_image.astype(np.uint8)\n",
    "        gray_label_image = cv2.resize(gray_label_image,(m,n),interpolation=cv2.INTER_CUBIC)\n",
    "    return gray_label_image"
   ]
  },
  {
   "cell_type": "code",
   "execution_count": 13,
   "metadata": {},
   "outputs": [],
   "source": [
    "def gray_image(label_image):\n",
    "    gray_label_image = ImageOps.grayscale(label_image)\n",
    "    gray_label_image = np.array(gray_label_image)\n",
    "    gray_label_image = gray_label_image/np.max(gray_label_image)\n",
    "    gray_label_image = gray_label_image.astype(np.uint8)\n",
    "    return gray_label_image"
   ]
  },
  {
   "cell_type": "code",
   "execution_count": 14,
   "metadata": {},
   "outputs": [],
   "source": [
    "def count_tumor_inputs(tumor_label_filename, im_size, level = 0):\n",
    "    image_path = os.path.join(Output_path, tumor_label_filename.replace('-labels.png',''))\n",
    "    filename = tumor_label_filename.replace('-labels.png','.svs')\n",
    "    if not os.path.exists(image_path):\n",
    "        os.makedirs(image_path)\n",
    "    slide = openslide.open_slide(os.path.join(SVS_path, filename))\n",
    "    [m,n] = slide.dimensions\n",
    "    [m_level, n_level] = slide.level_dimensions[level]\n",
    "    coef = int(m/m_level)\n",
    "    tumor_label = Image.open(os.path.join(Label_path, tumor_label_filename))\n",
    "    tumor_sum = np.sum(tumor_label)\n",
    "    idx = 0\n",
    "    threshold = im_size*im_size*0.75\n",
    "    if tumor_sum > 0:\n",
    "        tumor_label_gray = resize_image(tumor_label,m_level,n_level)\n",
    "        tumor_label.close()\n",
    "        for x in np.arange(0, m-im_size*coef, im_size*coef/2):\n",
    "            for y in np.arange(0, n-im_size*coef, im_size*coef/2):\n",
    "                x = int(x)\n",
    "                y = int(y)\n",
    "                x_level = int(x // coef)\n",
    "                y_level = int(y // coef)\n",
    "                crop_tumor = tumor_label_gray[y_level:y_level+im_size, x_level:x_level+im_size]\n",
    "                if np.sum(crop_tumor) < threshold:\n",
    "                    idx += 1\n",
    "    prob = 4000/idx\n",
    "    print(image_path,prob)"
   ]
  },
  {
   "cell_type": "code",
   "execution_count": 15,
   "metadata": {},
   "outputs": [],
   "source": [
    "def read_tumor_inputs(tumor_label_filename, im_size, level = 0):\n",
    "    image_path = os.path.join(Output_path, tumor_label_filename.replace('-labels.png',''))\n",
    "    filename = tumor_label_filename.replace('-labels.png','.svs')\n",
    "    if not os.path.exists(image_path):\n",
    "        os.makedirs(image_path)\n",
    "    slide = openslide.open_slide(os.path.join(SVS_path, filename))\n",
    "    [m,n] = slide.dimensions\n",
    "    [m_level, n_level] = slide.level_dimensions[level]\n",
    "    coef = int(m/m_level)\n",
    "    tumor_label = Image.open(os.path.join(Label_path, tumor_label_filename))\n",
    "    tumor_sum = np.sum(tumor_label)\n",
    "    idx = 0\n",
    "    count = 0\n",
    "    threshold = im_size*im_size*0.75\n",
    "    if tumor_sum > 0:\n",
    "        tumor_label_gray = resize_image(tumor_label,m_level,n_level)\n",
    "        tumor_label.close()\n",
    "        for x in np.arange(0, m-im_size*coef, im_size*coef/2):\n",
    "            for y in np.arange(0, n-im_size*coef, im_size*coef/2):\n",
    "                x = int(x)\n",
    "                y = int(y)\n",
    "                x_level = int(x // coef)\n",
    "                y_level = int(y // coef)\n",
    "                crop_tumor = tumor_label_gray[y_level:y_level+im_size, x_level:x_level+im_size]\n",
    "                if np.sum(crop_tumor) < threshold:\n",
    "                    count += 1\n",
    "        prob = 4000/count\n",
    "        print(count)\n",
    "        for x in np.arange(0, m-im_size*coef, im_size*coef/2):\n",
    "            for y in np.arange(0, n-im_size*coef, im_size*coef/2):\n",
    "                x = int(x)\n",
    "                y = int(y)\n",
    "                x_level = int(x // coef)\n",
    "                y_level = int(y // coef)\n",
    "                crop_tumor = tumor_label_gray[y_level:y_level+im_size, x_level:x_level+im_size]\n",
    "                if np.sum(crop_tumor) < threshold:\n",
    "\n",
    "                    image = slide.read_region((x,y),level, (im_size,im_size))\n",
    "                    image_rgb = image.convert(\"RGB\")\n",
    "                    intensity = mask(image_rgb)\n",
    "                    if intensity<0.9:\n",
    "                        if random.random()<prob:\n",
    "                            image_rgb.save(os.path.join(image_path,filename.replace('.svs','_tumor'+str(idx)+'_'+str(level)+'.jpg')))\n",
    "                            idx += 1\n",
    "                        # elif random.random() < 0.7 and random.random() > 0.5:\n",
    "                        #     image_rgb.save(os.path.join(image_path_val,filename.replace('.svs','_tumor'+str(idx)+'_'+str(level)+'.jpg')))\n",
    "                    # elif random.random()<0.1:\n",
    "                    #     if random.random()<0.5:\n",
    "                    #         image_rgb.save(os.path.join(image_path,filename.replace('.svs','_tumor'+str(idx)+'_'+str(level)+'.jpg')))\n",
    "                    #     else:\n",
    "                    #         image_rgb.save(os.path.join(image_path_val,filename.replace('.svs','_tumor'+str(idx)+'_'+str(level)+'.jpg')))\n",
    "                    #     idx += 1"
   ]
  },
  {
   "cell_type": "code",
   "execution_count": 16,
   "metadata": {},
   "outputs": [
    {
     "name": "stdout",
     "output_type": "stream",
     "text": [
      "7\n",
      "['K21-15652-2-chenchaohua-labels.png', 'K21-15652-2-chenchaohua1-labels.png', 'K22-00953-1-lizhengguo-labels.png', 'K22-00953-1-lizhengguo1-labels.png', 'K22-01308-1-fuyunfu-labels.png', 'K22-04037-1-dingzhengfan-labels.png', 'K22-04037-1-dingzhengfan1-labels.png']\n"
     ]
    }
   ],
   "source": [
    "svs_dir = os.listdir(Label_path)\n",
    "print(len(svs_dir))\n",
    "\n",
    "print(svs_dir)"
   ]
  },
  {
   "cell_type": "code",
   "execution_count": 17,
   "metadata": {},
   "outputs": [
    {
     "name": "stdout",
     "output_type": "stream",
     "text": [
      "31\n",
      "21-09908-1-chenchaoyuan.svs\n"
     ]
    }
   ],
   "source": [
    "svs_paths = [x for x in os.listdir(SVS_path) if '.svs' in x]\n",
    "path = svs_paths[0]\n",
    "print(len(svs_paths))\n",
    "print(path)"
   ]
  },
  {
   "cell_type": "code",
   "execution_count": 18,
   "metadata": {},
   "outputs": [
    {
     "name": "stderr",
     "output_type": "stream",
     "text": [
      "  0%|          | 0/7 [00:00<?, ?it/s]"
     ]
    },
    {
     "name": "stdout",
     "output_type": "stream",
     "text": [
      "990\n"
     ]
    },
    {
     "name": "stderr",
     "output_type": "stream",
     "text": [
      " 14%|█▍        | 1/7 [00:27<02:47, 27.90s/it]"
     ]
    },
    {
     "name": "stdout",
     "output_type": "stream",
     "text": [
      "4422\n"
     ]
    },
    {
     "name": "stderr",
     "output_type": "stream",
     "text": [
      " 29%|██▊       | 2/7 [02:36<07:15, 87.19s/it]"
     ]
    },
    {
     "name": "stdout",
     "output_type": "stream",
     "text": [
      "1228\n"
     ]
    },
    {
     "name": "stderr",
     "output_type": "stream",
     "text": [
      " 43%|████▎     | 3/7 [03:59<05:41, 85.31s/it]"
     ]
    },
    {
     "name": "stdout",
     "output_type": "stream",
     "text": [
      "463\n"
     ]
    },
    {
     "name": "stderr",
     "output_type": "stream",
     "text": [
      " 57%|█████▋    | 4/7 [04:22<03:02, 60.73s/it]"
     ]
    },
    {
     "name": "stdout",
     "output_type": "stream",
     "text": [
      "295\n"
     ]
    },
    {
     "name": "stderr",
     "output_type": "stream",
     "text": [
      " 71%|███████▏  | 5/7 [05:08<01:50, 55.32s/it]"
     ]
    },
    {
     "name": "stdout",
     "output_type": "stream",
     "text": [
      "367\n"
     ]
    },
    {
     "name": "stderr",
     "output_type": "stream",
     "text": [
      " 86%|████████▌ | 6/7 [05:23<00:41, 41.48s/it]"
     ]
    },
    {
     "name": "stdout",
     "output_type": "stream",
     "text": [
      "1443\n"
     ]
    },
    {
     "name": "stderr",
     "output_type": "stream",
     "text": [
      "100%|██████████| 7/7 [06:41<00:00, 57.39s/it]\n"
     ]
    }
   ],
   "source": [
    "for path in tqdm(svs_dir):\n",
    "    read_tumor_inputs(path, im_size=im_size, level=0)"
   ]
  },
  {
   "cell_type": "code",
   "execution_count": null,
   "metadata": {},
   "outputs": [],
   "source": []
  }
 ],
 "metadata": {
  "kernelspec": {
   "display_name": "Python 3.9.7 ('base')",
   "language": "python",
   "name": "python3"
  },
  "language_info": {
   "codemirror_mode": {
    "name": "ipython",
    "version": 3
   },
   "file_extension": ".py",
   "mimetype": "text/x-python",
   "name": "python",
   "nbconvert_exporter": "python",
   "pygments_lexer": "ipython3",
   "version": "3.8.8"
  },
  "orig_nbformat": 4,
  "vscode": {
   "interpreter": {
    "hash": "ad2bdc8ecc057115af97d19610ffacc2b4e99fae6737bb82f5d7fb13d2f2c186"
   }
  }
 },
 "nbformat": 4,
 "nbformat_minor": 2
}
